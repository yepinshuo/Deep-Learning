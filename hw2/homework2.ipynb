{
 "cells": [
  {
   "cell_type": "markdown",
   "metadata": {},
   "source": [
    "# Homework 2 - Berkeley STAT 157\n",
    "\n",
    "Handout 1/29/2019, due 2/5/2019 by 4pm in Git by committing to your repository."
   ]
  },
  {
   "cell_type": "code",
   "execution_count": 123,
   "metadata": {
    "ExecuteTime": {
     "end_time": "2019-01-29T22:48:56.163323Z",
     "start_time": "2019-01-29T22:48:53.680455Z"
    }
   },
   "outputs": [],
   "source": [
    "from mxnet import nd, autograd, gluon\n",
    "from mxnet import ndarray as nd\n",
    "import numpy as np\n",
    "import mxnet as mx\n",
    "from mxnet import nd\n",
    "from mxnet.gluon import nn\n",
    "from functools import reduce\n",
    "from operator import mul\n",
    "from matplotlib import pyplot as plt"
   ]
  },
  {
   "cell_type": "markdown",
   "metadata": {
    "ExecuteTime": {
     "end_time": "2019-01-29T19:41:18.204791Z",
     "start_time": "2019-01-29T19:41:18.201091Z"
    }
   },
   "source": [
    "# 1. Multinomial Sampling\n",
    "\n",
    "Implement a sampler from a discrete distribution from scratch, mimicking the function `mxnet.ndarray.random.multinomial`. Its arguments should be a vector of probabilities $p$. You can assume that the probabilities are normalized, i.e. tha they sum up to $1$. Make the call signature as follows:\n",
    "\n",
    "```\n",
    "samples = sampler(probs, shape) \n",
    "\n",
    "probs   : An ndarray vector of size n of nonnegative numbers summing up to 1\n",
    "shape   : A list of dimensions for the output\n",
    "samples : Samples from probs with shape matching shape\n",
    "```\n",
    "\n",
    "Hints:\n",
    "\n",
    "1. Use `mxnet.ndarray.random.uniform` to get a sample from $U[0,1]$.\n",
    "1. You can simplify things for `probs` by computing the cumulative sum over `probs`."
   ]
  },
  {
   "cell_type": "code",
   "execution_count": 86,
   "metadata": {
    "ExecuteTime": {
     "end_time": "2019-01-29T22:48:56.185124Z",
     "start_time": "2019-01-29T22:48:56.165645Z"
    }
   },
   "outputs": [
    {
     "data": {
      "text/plain": [
       "\n",
       "[[2. 2. 1.]\n",
       " [2. 2. 1.]]\n",
       "<NDArray 2x3 @cpu(0)>"
      ]
     },
     "execution_count": 86,
     "metadata": {},
     "output_type": "execute_result"
    }
   ],
   "source": [
    "def sampler(probs, shape):\n",
    "    ## Add your codes here\n",
    "    cum_probs = np.cumsum(probs.asnumpy())\n",
    "    \n",
    "    total = reduce(mul, shape, 1)\n",
    "    result = nd.zeros((1, total))\n",
    "    \n",
    "    for i in range(total):\n",
    "        temp = nd.random.uniform()\n",
    "        for j in range(len(cum_probs)):\n",
    "            if cum_probs[j] > temp:\n",
    "                result[0, i] = j\n",
    "                break\n",
    "    \n",
    "    result = result.reshape(shape)\n",
    "    return result\n",
    "\n",
    "# a simple test\n",
    "\n",
    "sampler(nd.array([0.2, 0.3, 0.5]), (2,3))"
   ]
  },
  {
   "cell_type": "markdown",
   "metadata": {},
   "source": [
    "# 2. Central Limit Theorem\n",
    "\n",
    "Let's explore the Central Limit Theorem when applied to text processing. \n",
    "\n",
    "* Download [https://www.gutenberg.org/ebooks/84](https://www.gutenberg.org/files/84/84-0.txt) from Project Gutenberg \n",
    "* Remove punctuation, uppercase / lowercase, and split the text up into individual tokens (words).\n",
    "* For the words `a`, `and`, `the`, `i`, `is` compute their respective counts as the book progresses, i.e. \n",
    "    $$n_\\mathrm{the}[i] = \\sum_{j = 1}^i \\{w_j = \\mathrm{the}\\}$$\n",
    "* Plot the proportions $n_\\mathrm{word}[i] / i$ over the document in one plot.\n",
    "* Find an envelope of the shape $O(1/\\sqrt{i})$ for each of these five words. (Hint, check the last page of the [sampling notebook](http://courses.d2l.ai/berkeley-stat-157/slides/1_24/sampling.pdf))\n",
    "* Why can we **not** apply the Central Limit Theorem directly? \n",
    "* How would we have to change the text for it to apply? \n",
    "* Why does it still work quite well?"
   ]
  },
  {
   "cell_type": "code",
   "execution_count": 131,
   "metadata": {
    "ExecuteTime": {
     "end_time": "2019-01-29T22:48:56.200892Z",
     "start_time": "2019-01-29T22:48:56.188145Z"
    }
   },
   "outputs": [],
   "source": [
    "import re\n",
    "\n",
    "filename = gluon.utils.download('https://www.gutenberg.org/files/84/84-0.txt')\n",
    "with open(filename) as f:\n",
    "    book = f.read()\n",
    "\n",
    "## Add your codes here\n",
    "book = book.lower()\n",
    "book = re.sub(r'[^\\w\\s]','',book)\n",
    "\n",
    "words = book.split()\n",
    "\n",
    "count = 0\n",
    "a_counts = np.zeros((1, len(words)))\n",
    "and_counts = np.zeros((1, len(words)))\n",
    "the_counts = np.zeros((1, len(words)))\n",
    "i_counts = np.zeros((1, len(words)))\n",
    "is_counts = np.zeros((1, len(words)))\n",
    "\n",
    "for i in range(1, len(words)):\n",
    "    count += 1\n",
    "    if words[i] == \"a\":\n",
    "        a_counts[0, i] = a_counts[0,i - 1] + 1\n",
    "    else:\n",
    "        a_counts[0, i] = a_counts[0,i - 1]\n",
    "        \n",
    "    if words[i] == \"and\":\n",
    "        and_counts[0,i] = and_counts[0,i - 1] + 1\n",
    "    else:\n",
    "        and_counts[0,i] = and_counts[0,i - 1]\n",
    "        \n",
    "    if words[i] == \"the\":\n",
    "        the_counts[0,i] = the_counts[0,i - 1] + 1\n",
    "    else:\n",
    "        the_counts[0,i] = the_counts[0,i - 1]\n",
    "        \n",
    "    if words[i] == \"i\":\n",
    "        i_counts[0,i] = i_counts[0,i - 1] + 1\n",
    "    else:\n",
    "        i_counts[0,i] = i_counts[0,i - 1]\n",
    "        \n",
    "    if words[i] == \"is\":\n",
    "        is_counts[0,i] = is_counts[0,i - 1] + 1\n",
    "    else:\n",
    "        is_counts[0,i] = is_counts[0,i - 1]"
   ]
  },
  {
   "cell_type": "markdown",
   "metadata": {},
   "source": [
    "Plot the proportions of the words:"
   ]
  },
  {
   "cell_type": "code",
   "execution_count": 130,
   "metadata": {},
   "outputs": [
    {
     "data": {
      "image/png": "[encoded data removed]",
      "text/plain": [
       "<Figure size 720x360 with 1 Axes>"
      ]
     },
     "metadata": {
      "needs_background": "light"
     },
     "output_type": "display_data"
    }
   ],
   "source": [
    "y = np.arange(1, len(words)+1).reshape(len(words),1)\n",
    "a_props = np.zeros((1, len(words)))\n",
    "and_props = np.zeros((1, len(words)))\n",
    "the_props = np.zeros((1, len(words)))\n",
    "i_props = np.zeros((1, len(words)))\n",
    "is_props = np.zeros((1, len(words)))\n",
    "\n",
    "for i in range(1, count+1):\n",
    "    a_props[0, i] = a_counts[0, i]/i\n",
    "    and_props[0, i] = and_counts[0, i]/i\n",
    "    the_props[0, i] = the_counts[0, i]/i\n",
    "    i_props[0, i] = i_counts[0, i]/i\n",
    "    is_props[0, i] = is_counts[0, i]/i\n",
    "\n",
    "plt.figure(figsize=(10,5))\n",
    "plt.semilogx(y,a_props[0,:])\n",
    "plt.semilogx(y,and_props[0,:]) \n",
    "plt.semilogx(y,the_props[0,:]) \n",
    "plt.semilogx(y,i_props[0,:]) \n",
    "plt.semilogx(y,is_props[0,:]) \n",
    "plt.show()"
   ]
  },
  {
   "cell_type": "markdown",
   "metadata": {},
   "source": [
    "We cannot apply CLT directly because we don't know if the words are independent in this text file, so the proportion of the words may not perform as the central limit theorem predicts.\n",
    "To solve this, we can totally randomize the text file, break the order of the words, so that the central limit theorem only focus on the frequency of the word, but not the dependence to some other words.\n",
    "It still works because Central limit theorem ensures that as long as the dataset is large enough, the frequency of the data will converge to a certain point, and randomized data also works in this condition."
   ]
  },
  {
   "cell_type": "markdown",
   "metadata": {},
   "source": [
    "## 3. Denominator-layout notation\n",
    "\n",
    "We used the numerator-layout notation for matrix calculus in class, now let's examine the denominator-layout notation.\n",
    "\n",
    "Given $x, y\\in\\mathbb R$, $\\mathbf x\\in\\mathbb R^n$ and $\\mathbf y \\in \\mathbb R^m$, we have\n",
    "\n",
    "$$\n",
    "\\frac{\\partial y}{\\partial \\mathbf{x}}=\\begin{bmatrix}\n",
    "\\frac{\\partial y}{\\partial x_1}\\\\\n",
    "\\frac{\\partial y}{\\partial x_2}\\\\\n",
    "\\vdots\\\\\n",
    "\\frac{\\partial y}{\\partial x_n}\n",
    "\\end{bmatrix},\\quad \n",
    "\\frac{\\partial \\mathbf y}{\\partial {x}}=\\begin{bmatrix}\n",
    "\\frac{\\partial y_1}{\\partial x}, \n",
    "\\frac{\\partial y_2}{\\partial x}, \n",
    "\\ldots,\n",
    "\\frac{\\partial y_m}{\\partial x}\n",
    "\\end{bmatrix}\n",
    "$$\n",
    "\n",
    "and \n",
    "\n",
    "$$\n",
    "\\frac{\\partial \\mathbf y}{\\partial \\mathbf{x}}\n",
    "=\\begin{bmatrix}\n",
    "\\frac{\\partial \\mathbf y}{\\partial {x_1}}\\\\\n",
    "\\frac{\\partial \\mathbf y}{\\partial {x_2}}\\\\\n",
    "\\vdots\\\\\n",
    "\\frac{\\partial \\mathbf y}{\\partial {x_3}}\\\\\n",
    "\\end{bmatrix}\n",
    "=\\begin{bmatrix}\n",
    "\\frac{\\partial y_1}{\\partial x_1}, \n",
    "\\frac{\\partial y_2}{\\partial x_1},\n",
    "\\ldots,\n",
    "\\frac{\\partial y_m}{\\partial x_1}\n",
    "\\\\ \n",
    "\\frac{\\partial y_1}{\\partial x_2},\n",
    "\\frac{\\partial y_2}{\\partial x_2},\n",
    "\\ldots,\n",
    "\\frac{\\partial y_m}{\\partial x_2}\\\\ \n",
    "\\vdots\\\\\n",
    "\\frac{\\partial y_1}{\\partial x_n},\n",
    "\\frac{\\partial y_2}{\\partial x_n},\n",
    "\\ldots,\n",
    "\\frac{\\partial y_m}{\\partial x_n}\n",
    "\\end{bmatrix}\n",
    "$$\n",
    "\n",
    "Questions: \n",
    "\n",
    "1. Assume $\\mathbf  y = f(\\mathbf u)$ and $\\mathbf u = g(\\mathbf x)$, write down the chain rule for $\\frac {\\partial\\mathbf  y}{\\partial\\mathbf x}$\n",
    "2. Given $\\mathbf X \\in \\mathbb R^{m\\times n},\\ \\mathbf w \\in \\mathbb R^n, \\ \\mathbf y \\in \\mathbb R^m$, assume $z = \\| \\mathbf X \\mathbf w - \\mathbf y\\|^2$, compute $\\frac{\\partial z}{\\partial\\mathbf w}$."
   ]
  },
  {
   "cell_type": "markdown",
   "metadata": {},
   "source": [
    "1) For the first part we have $\\mathbf y=f\\left(\\begin{bmatrix}\n",
    "u_1\\\\\n",
    "u_2\\\\\n",
    "\\vdots\\\\\n",
    "u_n\n",
    "\\end{bmatrix}\\right)$, and $\\mathbf u=f\\left(\\begin{bmatrix}\n",
    "x_1\\\\\n",
    "x_2\\\\\n",
    "\\vdots\\\\\n",
    "x_n\n",
    "\\end{bmatrix}\\right)$, we get $\\mathbf y=\\begin{bmatrix}\n",
    "f(g(x_1))\\\\\n",
    "f(g(x_2))\\\\\n",
    "\\vdots\\\\\n",
    "f(g(x_n))\n",
    "\\end{bmatrix}$\n",
    "and according to the information we have the formula $\\frac{\\partial \\mathbf y}{\\partial \\mathbf{x}}$.\n",
    "\n",
    "So we can plug in the formula, so $\\frac{\\partial \\mathbf y}{\\partial \\mathbf{x}} \n",
    "=\\begin{bmatrix}\n",
    "\\frac{\\partial y_1}{\\partial u_1}\\frac{\\partial u_1}{\\partial x_1}, \n",
    "\\frac{\\partial y_1}{\\partial u_2}\\frac{\\partial u_2}{\\partial x_2},\n",
    "\\ldots,\n",
    "\\frac{\\partial y_1}{\\partial u_n}\\frac{\\partial u_n}{\\partial x_n},\n",
    "\\\\ \n",
    "\\frac{\\partial y_2}{\\partial u_1}\\frac{\\partial u_1}{\\partial x_1},\n",
    "\\frac{\\partial y_2}{\\partial u_2}\\frac{\\partial u_2}{\\partial x_2},\n",
    "\\ldots,\n",
    "\\frac{\\partial y_2}{\\partial u_n}\\frac{\\partial u_n}{\\partial x_n}\\\\ \n",
    "\\vdots\\\\\n",
    "\\frac{\\partial y_m}{\\partial u_1}\\frac{\\partial u_1}{\\partial x_1},\n",
    "\\frac{\\partial y_m}{\\partial u_2}\\frac{\\partial u_2}{\\partial x_2},\n",
    "\\ldots,\n",
    "\\frac{\\partial y_m}{\\partial u_n}\\frac{\\partial u_n}{\\partial x_n}\n",
    "\\end{bmatrix}\n",
    "$"
   ]
  },
  {
   "cell_type": "markdown",
   "metadata": {},
   "source": [
    "2) Since we have $z = \\| \\mathbf X \\mathbf w - \\mathbf y\\|^2$, we can get\n",
    "$z = 2(\\mathbf X \\mathbf w - \\mathbf y)^T \\mathbf X = \n",
    "2\\left( \\begin{bmatrix}\n",
    "x_{11}, x_{12}, \\ldots, x_{1n}\\\\ \n",
    "x_{21}, x_{22}, \\ldots, x_{2n}\\\\ \n",
    "\\vdots\\\\\n",
    "x_{m1}, x_{m2}, \\ldots, x_{mn}\\\\ \n",
    "\\end{bmatrix}\n",
    "\\begin{bmatrix}\n",
    "w_1\\\\w_2\\\\ \\vdots \\\\ w_n\n",
    "\\end{bmatrix} - \n",
    "\\begin{bmatrix}\n",
    "y_1\\\\y_2\\\\ \\vdots \\\\ y_m\n",
    "\\end{bmatrix} \\right)^T\n",
    "\\begin{bmatrix}\n",
    "x_{11}, x_{12}, \\ldots, x_{1n}\\\\ \n",
    "x_{21}, x_{22}, \\ldots, x_{2n}\\\\ \n",
    "\\vdots\\\\\n",
    "x_{m1}, x_{m2}, \\ldots, x_{mn}\\\\ \n",
    "\\end{bmatrix} \\in \\mathbb R^m\n",
    "$"
   ]
  },
  {
   "cell_type": "markdown",
   "metadata": {},
   "source": [
    "## 4. Numerical Precision\n",
    "\n",
    "Given scalars `x` and `y`, implement the following `log_exp` function such that it returns \n",
    "$$-\\log\\left(\\frac{e^x}{e^x+e^y}\\right)$$."
   ]
  },
  {
   "cell_type": "code",
   "execution_count": 103,
   "metadata": {
    "ExecuteTime": {
     "end_time": "2019-01-29T22:48:56.206890Z",
     "start_time": "2019-01-29T22:48:56.202996Z"
    }
   },
   "outputs": [],
   "source": [
    "from math import log\n",
    "from math import exp\n",
    "def log_exp(x, y):\n",
    "    ## add your solution here\n",
    "    return -log(exp(x.asscalar())/(exp(x.asscalar()) + exp(y.asscalar())))"
   ]
  },
  {
   "cell_type": "markdown",
   "metadata": {},
   "source": [
    "Test your codes with normal inputs:"
   ]
  },
  {
   "cell_type": "code",
   "execution_count": 104,
   "metadata": {
    "ExecuteTime": {
     "end_time": "2019-01-29T22:48:56.215579Z",
     "start_time": "2019-01-29T22:48:56.209659Z"
    }
   },
   "outputs": [
    {
     "data": {
      "text/plain": [
       "1.3132616875182228"
      ]
     },
     "execution_count": 104,
     "metadata": {},
     "output_type": "execute_result"
    }
   ],
   "source": [
    "x, y = nd.array([2]), nd.array([3])\n",
    "z = log_exp(x, y)\n",
    "z"
   ]
  },
  {
   "cell_type": "markdown",
   "metadata": {},
   "source": [
    "Now implement a function to compute $\\partial z/\\partial x$ and $\\partial z/\\partial y$ with `autograd`"
   ]
  },
  {
   "cell_type": "code",
   "execution_count": 105,
   "metadata": {
    "ExecuteTime": {
     "end_time": "2019-01-29T22:48:56.223303Z",
     "start_time": "2019-01-29T22:48:56.218056Z"
    }
   },
   "outputs": [],
   "source": [
    "def grad(forward_func, x, y): \n",
    "    ## Add your codes here\n",
    "    print('x.grad =', x.grad)\n",
    "    print('y.grad =', y.grad)"
   ]
  },
  {
   "cell_type": "markdown",
   "metadata": {},
   "source": [
    "Test your codes, it should print the results nicely. "
   ]
  },
  {
   "cell_type": "code",
   "execution_count": 106,
   "metadata": {
    "ExecuteTime": {
     "end_time": "2019-01-29T22:48:56.267165Z",
     "start_time": "2019-01-29T22:48:56.227035Z"
    }
   },
   "outputs": [
    {
     "name": "stdout",
     "output_type": "stream",
     "text": [
      "x.grad = None\n",
      "y.grad = None\n"
     ]
    }
   ],
   "source": [
    "grad(log_exp, x, y)"
   ]
  },
  {
   "cell_type": "markdown",
   "metadata": {},
   "source": [
    "But now let's try some \"hard\" inputs"
   ]
  },
  {
   "cell_type": "code",
   "execution_count": 8,
   "metadata": {
    "ExecuteTime": {
     "end_time": "2019-01-29T22:48:56.285842Z",
     "start_time": "2019-01-29T22:48:56.274079Z"
    }
   },
   "outputs": [
    {
     "name": "stdout",
     "output_type": "stream",
     "text": [
      "x.grad = None\n",
      "y.grad = None\n"
     ]
    }
   ],
   "source": [
    "x, y = nd.array([50]), nd.array([100])\n",
    "grad(log_exp, x, y)"
   ]
  },
  {
   "cell_type": "markdown",
   "metadata": {},
   "source": [
    "Does your code return correct results? If not, try to understand the reason. (Hint, evaluate `exp(100)`). Now develop a new function `stable_log_exp` that is identical to `log_exp` in math, but returns a more numerical stable result."
   ]
  },
  {
   "cell_type": "code",
   "execution_count": 9,
   "metadata": {
    "ExecuteTime": {
     "end_time": "2019-01-29T22:48:56.305595Z",
     "start_time": "2019-01-29T22:48:56.293399Z"
    }
   },
   "outputs": [
    {
     "name": "stdout",
     "output_type": "stream",
     "text": [
      "x.grad = None\n",
      "y.grad = None\n"
     ]
    }
   ],
   "source": [
    "def stable_log_exp(x, y):\n",
    "    ## Add your codes here\n",
    "    pass\n",
    "\n",
    "grad(stable_log_exp, x, y)"
   ]
  },
  {
   "cell_type": "code",
   "execution_count": null,
   "metadata": {
    "collapsed": true
   },
   "outputs": [],
   "source": []
  }
 ],
 "metadata": {
  "anaconda-cloud": {},
  "kernelspec": {
   "display_name": "Python 3",
   "language": "python",
   "name": "python3"
  },
  "language_info": {
   "codemirror_mode": {
    "name": "ipython",
    "version": 3
   },
   "file_extension": ".py",
   "mimetype": "text/x-python",
   "name": "python",
   "nbconvert_exporter": "python",
   "pygments_lexer": "ipython3",
   "version": "3.6.8"
  }
 },
 "nbformat": 4,
 "nbformat_minor": 2
}
