{
 "cells": [
  {
   "cell_type": "markdown",
   "metadata": {
    "slideshow": {
     "slide_type": "-"
    }
   },
   "source": [
    "# Homework 1 - Berkeley STAT 157\n",
    "\n",
    "Handout 1/22/2017, due 1/29/2017 by 4pm in Git by committing to your repository. Please ensure that you add the TA Git account to your repository.\n",
    "\n",
    "1. Write all code in the notebook.\n",
    "1. Write all text in the notebook. You can use MathJax to insert math or generic Markdown to insert figures (it's unlikely you'll need the latter). \n",
    "1. **Execute** the notebook and **save** the results.\n",
    "1. To be safe, print the notebook as PDF and add it to the repository, too. Your repository should contain two files: ``homework1.ipynb`` and ``homework1.pdf``. \n",
    "\n",
    "The TA will return the corrected and annotated homework back to you via Git (please give `rythei` access to your repository)."
   ]
  },
  {
   "cell_type": "code",
   "execution_count": 11,
   "metadata": {
    "ExecuteTime": {
     "end_time": "2019-01-22T19:57:47.188990Z",
     "start_time": "2019-01-22T19:57:46.107420Z"
    }
   },
   "outputs": [],
   "source": [
    "from mxnet import ndarray as nd\n",
    "import numpy as np\n",
    "import mxnet as mx\n",
    "from mxnet import nd\n",
    "from mxnet.gluon import nn"
   ]
  },
  {
   "cell_type": "markdown",
   "metadata": {},
   "source": [
    "## 1. Speedtest for vectorization\n",
    "\n",
    "Your goal is to measure the speed of linear algebra operations for different levels of vectorization. You need to use `wait_to_read()` on the output to ensure that the result is computed completely, since NDArray uses asynchronous computation. Please see http://beta.mxnet.io/api/ndarray/_autogen/mxnet.ndarray.NDArray.wait_to_read.html for details. \n",
    "\n",
    "1. Construct two matrices $A$ and $B$ with Gaussian random entries of size $4096 \\times 4096$. \n",
    "1. Compute $C = A B$ using matrix-matrix operations and report the time. \n",
    "1. Compute $C = A B$, treating $A$ as a matrix but computing the result for each column of $B$ one at a time. Report the time.\n",
    "1. Compute $C = A B$, treating $A$ and $B$ as collections of vectors. Report the time.\n",
    "1. Bonus question - what changes if you execute this on a GPU?"
   ]
  },
  {
   "cell_type": "markdown",
   "metadata": {},
   "source": [
    "1. Construct two new 4096\\*4096 matrices, called A and B."
   ]
  },
  {
   "cell_type": "code",
   "execution_count": 2,
   "metadata": {
    "scrolled": true
   },
   "outputs": [],
   "source": [
    "A = nd.random.normal(0, 1, shape = (4096, 4096))\n",
    "B = nd.random.normal(0, 1, shape = (4096, 4096))"
   ]
  },
  {
   "cell_type": "markdown",
   "metadata": {},
   "source": [
    "2. Compute **C = AB** using matrix-matrix operations and report the time."
   ]
  },
  {
   "cell_type": "code",
   "execution_count": 3,
   "metadata": {},
   "outputs": [
    {
     "name": "stdout",
     "output_type": "stream",
     "text": [
      "2.11325740814209\n"
     ]
    }
   ],
   "source": [
    "import time\n",
    "tic = time.time()\n",
    "C = nd.dot(A, B.T)\n",
    "C.wait_to_read()\n",
    "print(time.time() - tic)"
   ]
  },
  {
   "cell_type": "markdown",
   "metadata": {},
   "source": [
    "3. Compute **C = AB** treating A as a matrix but computing the result for each column of B one at a time."
   ]
  },
  {
   "cell_type": "code",
   "execution_count": 4,
   "metadata": {},
   "outputs": [
    {
     "name": "stdout",
     "output_type": "stream",
     "text": [
      "46.52561640739441\n"
     ]
    }
   ],
   "source": [
    "tic = time.time()\n",
    "C = nd.zeros((4096, 4096))\n",
    "D = B.T\n",
    "for i in range(0, 4096):\n",
    "    C[i] = nd.dot(A, D[i])\n",
    "C = C.T\n",
    "C.wait_to_read()\n",
    "print(time.time() - tic)"
   ]
  },
  {
   "cell_type": "markdown",
   "metadata": {},
   "source": [
    "4. Compute **C = AB** treating A and B as collections of vectors. Report the time."
   ]
  },
  {
   "cell_type": "code",
   "execution_count": 5,
   "metadata": {},
   "outputs": [
    {
     "name": "stdout",
     "output_type": "stream",
     "text": [
      "1832.019658088684\n"
     ]
    }
   ],
   "source": [
    "tic = time.time()\n",
    "C = nd.zeros((4096, 4096))\n",
    "for j in range(0, 4096):\n",
    "    for i in range(0, 4096):\n",
    "        C[j][i] = nd.dot(A[j], D[i])\n",
    "C.wait_to_read()\n",
    "print(time.time() - tic)"
   ]
  },
  {
   "cell_type": "markdown",
   "metadata": {},
   "source": [
    "## 2. Semidefinite Matrices\n",
    "\n",
    "Assume that $A \\in \\mathbb{R}^{m \\times n}$ is an arbitrary matrix and that $D \\in \\mathbb{R}^{n \\times n}$ is a diagonal matrix with nonnegative entries. \n",
    "\n",
    "1. Prove that $B = A D A^\\top$ is a positive semidefinite matrix. \n",
    "1. When would it be useful to work with $B$ and when is it better to use $A$ and $D$?"
   ]
  },
  {
   "cell_type": "markdown",
   "metadata": {},
   "source": [
    "1. **Proof** To show $B = ADA^T$ is a positive semidefinite matrix, we must take an arbitrary vector $z \\in {\\mathbb{R}}^n$, such that $z^{T}Bz$ are non-negative.\n",
    "    \n",
    "    Since we know that $A \\in {\\mathbb{R}}^{m{\\times}n}$ is an arbitrary matrix, and we know that $z^{T}Bz = z^{T}ADA^Tz$, it is easily to see that $({A^Tz})^T = z^{T}A$, where $A^Tz \\in {\\mathbb{R}}^n$ is also an arbirtrary vector.\n",
    "    \n",
    "    Let $C = A^Tz$, then $ C^T = z^{T}A$, we have $z^{T}Bz = z^{T}ADA^Tz = C^{T}DC$, where $C \\in {\\mathbb{R}}^n$.\n",
    "    \n",
    "    Since $C^{T}DC = \\begin{bmatrix}\n",
    "    c_{1} & c_{2} & c_{3} & \\dots & c_{n}\n",
    "    \\end{bmatrix}\n",
    "    \\begin{bmatrix}\n",
    "    d_{11}       & 0 & 0 & \\dots &0 \\\\\n",
    "    0   & d_{22} & 0 & \\dots & 0 \\\\\n",
    "    \\dots \\\\\n",
    "    0   & 0 & 0 & \\dots & d_{nn}\n",
    "    \\end{bmatrix}\n",
    "    \\begin{bmatrix}\n",
    "    c_{1} \\\\ c_{2} \\\\ c_{3} \\\\ \\dots \\\\ c_{n}\n",
    "    \\end{bmatrix}\n",
    "    = c_{1}^2d_{11} + c_{2}^2d_{22} + \\dots + c_{n}^2d_{nn}$.\n",
    "    \n",
    "    Each term of the result $c_{i}^2d_{ii} \\ge 0$, so $c_{1}^2d_{11} + c_{2}^2d_{22} + \\dots + c_{n}^2d_{nn} \\ge 0$.\n",
    "    \n",
    "    Thus $z^{T}Bz \\ge 0$ is true for arbitrary $z \\in {\\mathbb{R}}^n$, $B$ is a positive semidefinite matrix.\n",
    "    "
   ]
  },
  {
   "cell_type": "markdown",
   "metadata": {},
   "source": [
    "2. It is useful to use $B$ when we want to store the result for future calculation, but it is easier to use $A$ and $D$ when we want to calculate $z^{T}Bz$, and we can use the stored $A$ to get $C = A^Tz$, then we can get $C^T$, so it is easier to calculate $C^TDC$."
   ]
  },
  {
   "cell_type": "markdown",
   "metadata": {},
   "source": [
    "## 3. MXNet on GPUs\n",
    "\n",
    "1. Install GPU drivers (if needed)\n",
    "1. Install MXNet on a GPU instance\n",
    "1. Display `!nvidia-smi`\n",
    "1. Create a $2 \\times 2$ matrix on the GPU and print it. See http://d2l.ai/chapter_deep-learning-computation/use-gpu.html for details."
   ]
  },
  {
   "cell_type": "code",
   "execution_count": 5,
   "metadata": {},
   "outputs": [
    {
     "name": "stdout",
     "output_type": "stream",
     "text": [
      "Tue Jan 29 20:09:05 2019       \r\n",
      "+-----------------------------------------------------------------------------+\r\n",
      "| NVIDIA-SMI 387.26                 Driver Version: 387.26                    |\r\n",
      "|-------------------------------+----------------------+----------------------+\r\n",
      "| GPU  Name        Persistence-M| Bus-Id        Disp.A | Volatile Uncorr. ECC |\r\n",
      "| Fan  Temp  Perf  Pwr:Usage/Cap|         Memory-Usage | GPU-Util  Compute M. |\r\n",
      "|===============================+======================+======================|\r\n",
      "|   0  Tesla K80           Off  | 00000000:00:1E.0 Off |                    0 |\r\n",
      "| N/A   50C    P0    59W / 149W |      0MiB / 11439MiB |     99%      Default |\r\n",
      "+-------------------------------+----------------------+----------------------+\r\n",
      "                                                                               \r\n",
      "+-----------------------------------------------------------------------------+\r\n",
      "| Processes:                                                       GPU Memory |\r\n",
      "|  GPU       PID   Type   Process name                             Usage      |\r\n",
      "|=============================================================================|\r\n",
      "|  No running processes found                                                 |\r\n",
      "+-----------------------------------------------------------------------------+\r\n"
     ]
    }
   ],
   "source": [
    "!nvidia-smi"
   ]
  },
  {
   "cell_type": "code",
   "execution_count": 12,
   "metadata": {},
   "outputs": [
    {
     "data": {
      "text/plain": [
       "(cpu(0), gpu(0), gpu(1))"
      ]
     },
     "execution_count": 12,
     "metadata": {},
     "output_type": "execute_result"
    }
   ],
   "source": [
    "mx.cpu(), mx.gpu(), mx.gpu(1)"
   ]
  },
  {
   "cell_type": "code",
   "execution_count": 13,
   "metadata": {},
   "outputs": [
    {
     "data": {
      "text/plain": [
       "\n",
       "[[1. 1.]\n",
       " [1. 1.]]\n",
       "<NDArray 2x2 @gpu(0)>"
      ]
     },
     "execution_count": 13,
     "metadata": {},
     "output_type": "execute_result"
    }
   ],
   "source": [
    "x = nd.ones((2, 2), ctx=mx.gpu())\n",
    "x"
   ]
  },
  {
   "cell_type": "markdown",
   "metadata": {},
   "source": [
    "## 4. NDArray and NumPy \n",
    "\n",
    "Your goal is to measure the speed penalty between MXNet Gluon and Python when converting data between both. We are going to do this as follows:\n",
    "\n",
    "1. Create two Gaussian random matrices $A, B$ of size $4096 \\times 4096$ in NDArray. \n",
    "1. Compute a vector $\\mathbf{c} \\in \\mathbb{R}^{4096}$ where $c_i = \\|A B_{i\\cdot}\\|^2$ where $\\mathbf{c}$ is a **NumPy** vector.\n",
    "\n",
    "To see the difference in speed due to Python perform the following two experiments and measure the time:\n",
    "\n",
    "1. Compute $\\|A B_{i\\cdot}\\|^2$ one at a time and assign its outcome to $\\mathbf{c}_i$ directly.\n",
    "1. Use an intermediate storage vector $\\mathbf{d}$ in NDArray for assignments and copy to NumPy at the end."
   ]
  },
  {
   "cell_type": "code",
   "execution_count": 6,
   "metadata": {},
   "outputs": [],
   "source": [
    "A = nd.random.normal(0, 1, shape = (4096, 4096))\n",
    "B = nd.random.normal(0, 1, shape = (4096, 4096))"
   ]
  },
  {
   "cell_type": "code",
   "execution_count": 7,
   "metadata": {},
   "outputs": [
    {
     "name": "stdout",
     "output_type": "stream",
     "text": [
      "47.323471784591675\n"
     ]
    }
   ],
   "source": [
    "tic = time.time()\n",
    "c = np.zeros((4096, 1))\n",
    "B = B.T\n",
    "for i in range(0, 4096):\n",
    "    c[i, 0] = nd.dot(A, B[i]).norm().asscalar()\n",
    "print(time.time() - tic)"
   ]
  },
  {
   "cell_type": "code",
   "execution_count": 8,
   "metadata": {},
   "outputs": [
    {
     "name": "stdout",
     "output_type": "stream",
     "text": [
      "59.10517883300781\n"
     ]
    }
   ],
   "source": [
    "tic = time.time()\n",
    "d = nd.zeros((4096, 1))\n",
    "for i in range(0, 4096):\n",
    "    d[i, 0] = nd.dot(A, B[i]).norm()\n",
    "c = d.asnumpy()\n",
    "print(time.time() - tic)"
   ]
  },
  {
   "cell_type": "markdown",
   "metadata": {},
   "source": [
    "## 5. Memory efficient computation\n",
    "\n",
    "We want to compute $C \\leftarrow A \\cdot B + C$, where $A, B$ and $C$ are all matrices. Implement this in the most memory efficient manner. Pay attention to the following two things:\n",
    "\n",
    "1. Do not allocate new memory for the new value of $C$.\n",
    "1. Do not allocate new memory for intermediate results if possible."
   ]
  },
  {
   "cell_type": "code",
   "execution_count": 9,
   "metadata": {},
   "outputs": [
    {
     "data": {
      "text/plain": [
       "\n",
       "[[ -46.71145     -45.413414    -31.004791   ...   50.940186\n",
       "   106.2559     -172.54005   ]\n",
       " [  -6.4245415   -12.3445835   -63.299656   ...    9.028375\n",
       "    -1.4529381    -7.109889  ]\n",
       " [  66.85704     -34.95294     138.59096    ...   51.894375\n",
       "  -169.08273     -66.29572   ]\n",
       " ...\n",
       " [  29.455101    148.26987      48.858917   ...  -49.052483\n",
       "   -99.60325     -78.30951   ]\n",
       " [-101.75108     -74.69542      50.57899    ...   49.34268\n",
       "   -45.483482     22.58878   ]\n",
       " [  -1.4139974    24.427887     49.047188   ...   70.21543\n",
       "    -0.81529427  -56.932446  ]]\n",
       "<NDArray 4096x4096 @cpu(0)>"
      ]
     },
     "execution_count": 9,
     "metadata": {},
     "output_type": "execute_result"
    }
   ],
   "source": [
    "A = nd.random.normal(0, 1, shape = (4096, 4096))\n",
    "B = nd.random.normal(0, 1, shape = (4096, 4096))\n",
    "C = nd.zeros((4096, 4096))\n",
    "\n",
    "A = nd.dot(A, B.T)\n",
    "C = A + C\n",
    "C"
   ]
  },
  {
   "cell_type": "markdown",
   "metadata": {},
   "source": [
    "## 6. Broadcast Operations\n",
    "\n",
    "In order to perform polynomial fitting we want to compute a design matrix $A$ with \n",
    "\n",
    "$$A_{ij} = x_i^j$$\n",
    "\n",
    "Our goal is to implement this **without a single for loop** entirely using vectorization and broadcast. Here $1 \\leq j \\leq 20$ and $x = \\{-10, -9.9, \\ldots 10\\}$. Implement code that generates such a matrix."
   ]
  },
  {
   "cell_type": "code",
   "execution_count": 10,
   "metadata": {},
   "outputs": [
    {
     "data": {
      "text/plain": [
       "\n",
       "[[-1.0000000e+01  1.0000000e+02 -1.0000000e+03 ...  9.9999998e+17\n",
       "  -1.0000000e+19  1.0000000e+20]\n",
       " [-9.8999996e+00  9.8009995e+01 -9.7029895e+02 ...  8.3451338e+17\n",
       "  -8.2616820e+18  8.1790647e+19]\n",
       " [-9.8000002e+00  9.6040001e+01 -9.4119208e+02 ...  6.9513558e+17\n",
       "  -6.8123289e+18  6.6760824e+19]\n",
       " ...\n",
       " [ 9.7999992e+00  9.6039986e+01  9.4119177e+02 ...  6.9513434e+17\n",
       "   6.8123162e+18  6.6760692e+19]\n",
       " [ 9.8999996e+00  9.8009995e+01  9.7029895e+02 ...  8.3451338e+17\n",
       "   8.2616820e+18  8.1790647e+19]\n",
       " [ 1.0000000e+01  1.0000000e+02  1.0000000e+03 ...  9.9999998e+17\n",
       "   1.0000000e+19  1.0000000e+20]]\n",
       "<NDArray 201x20 @cpu(0)>"
      ]
     },
     "execution_count": 10,
     "metadata": {},
     "output_type": "execute_result"
    }
   ],
   "source": [
    "x = nd.arange(201)\n",
    "x = x/10 - 10\n",
    "x = x.repeat(20)\n",
    "x = x.reshape((201, 20))\n",
    "\n",
    "y = nd.arange(20)\n",
    "y = y + 1\n",
    "y = y.repeat(201)\n",
    "y = y.reshape((20, 201))\n",
    "y = y.T\n",
    "\n",
    "A = x ** y\n",
    "A"
   ]
  }
 ],
 "metadata": {
  "celltoolbar": "Slideshow",
  "kernelspec": {
   "display_name": "Python 3",
   "language": "python",
   "name": "python3"
  },
  "language_info": {
   "codemirror_mode": {
    "name": "ipython",
    "version": 3
   },
   "file_extension": ".py",
   "mimetype": "text/x-python",
   "name": "python",
   "nbconvert_exporter": "python",
   "pygments_lexer": "ipython3",
   "version": "3.6.5"
  }
 },
 "nbformat": 4,
 "nbformat_minor": 2
}
